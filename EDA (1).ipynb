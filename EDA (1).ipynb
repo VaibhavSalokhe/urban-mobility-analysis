{
 "cells": [
  {
   "cell_type": "markdown",
   "id": "33053f40",
   "metadata": {},
   "source": [
    "## 🧠 Analyzing Urban Mobility Patterns - EDA"
   ]
  },
  {
   "cell_type": "code",
   "execution_count": null,
   "id": "173cc0bc",
   "metadata": {},
   "outputs": [],
   "source": [
    "import pandas as pd\n",
    "import numpy as np\n",
    "import matplotlib.pyplot as plt\n",
    "import seaborn as sns"
   ]
  },
  {
   "cell_type": "code",
   "execution_count": null,
   "id": "d12bd144",
   "metadata": {},
   "outputs": [],
   "source": [
    "df = pd.read_csv('data/urban_mobility_data.csv')\n",
    "df.head()"
   ]
  },
  {
   "cell_type": "code",
   "execution_count": null,
   "id": "ad4ed080",
   "metadata": {},
   "outputs": [],
   "source": [
    "print(\"Shape of dataset:\", df.shape)\n",
    "df.info()\n",
    "df.describe()"
   ]
  },
  {
   "cell_type": "code",
   "execution_count": null,
   "id": "de347066",
   "metadata": {},
   "outputs": [],
   "source": [
    "missing = df.isnull().sum()\n",
    "print(\"Missing Values:\\n\", missing)"
   ]
  },
  {
   "cell_type": "code",
   "execution_count": null,
   "id": "cfb9ff00",
   "metadata": {},
   "outputs": [],
   "source": [
    "plt.figure(figsize=(8, 4))\n",
    "sns.histplot(df['trip_distance_km'], kde=True, color='skyblue')\n",
    "plt.title(\"Distribution of Trip Distance (km)\")\n",
    "plt.xlabel(\"Distance (km)\")\n",
    "plt.ylabel(\"Frequency\")\n",
    "plt.show()"
   ]
  },
  {
   "cell_type": "code",
   "execution_count": null,
   "id": "9ac76872",
   "metadata": {},
   "outputs": [],
   "source": [
    "plt.figure(figsize=(8, 4))\n",
    "sns.histplot(df['fare_amount'], kde=True, color='orange')\n",
    "plt.title(\"Distribution of Fare Amount\")\n",
    "plt.xlabel(\"Fare (₹)\")\n",
    "plt.ylabel(\"Frequency\")\n",
    "plt.show()"
   ]
  },
  {
   "cell_type": "code",
   "execution_count": null,
   "id": "f25f1d13",
   "metadata": {},
   "outputs": [],
   "source": [
    "sns.countplot(x='vehicle_type', data=df, palette='Set2')\n",
    "plt.title(\"Count of Vehicle Types\")\n",
    "plt.show()"
   ]
  },
  {
   "cell_type": "code",
   "execution_count": null,
   "id": "82c662b4",
   "metadata": {},
   "outputs": [],
   "source": [
    "sns.countplot(x='passengers', data=df, palette='Set1')\n",
    "plt.title(\"Passenger Count Distribution\")\n",
    "plt.show()"
   ]
  },
  {
   "cell_type": "code",
   "execution_count": null,
   "id": "9307baa9",
   "metadata": {},
   "outputs": [],
   "source": [
    "sns.scatterplot(x='trip_distance_km', y='fare_amount', hue='vehicle_type', data=df)\n",
    "plt.title(\"Fare vs. Trip Distance by Vehicle Type\")\n",
    "plt.show()"
   ]
  },
  {
   "cell_type": "code",
   "execution_count": null,
   "id": "589664a6",
   "metadata": {},
   "outputs": [],
   "source": [
    "sns.boxplot(x='vehicle_type', y='fare_amount', data=df)\n",
    "plt.title(\"Fare Distribution by Vehicle Type\")\n",
    "plt.show()"
   ]
  },
  {
   "cell_type": "code",
   "execution_count": null,
   "id": "a06f6b45",
   "metadata": {},
   "outputs": [],
   "source": [
    "plt.figure(figsize=(10, 6))\n",
    "sns.heatmap(df.corr(numeric_only=True), annot=True, cmap='coolwarm', fmt=\".2f\")\n",
    "plt.title(\"Correlation Heatmap\")\n",
    "plt.show()"
   ]
  },
  {
   "cell_type": "markdown",
   "id": "62fce20d",
   "metadata": {},
   "source": [
    "### 📝 Key Observations\n",
    "- Cabs typically have higher fares for similar distances.\n",
    "- Autos and Bikes are used for shorter trips.\n",
    "- Passenger count is mostly between 1 and 3."
   ]
  }
 ],
 "metadata": {},
 "nbformat": 4,
 "nbformat_minor": 5
}